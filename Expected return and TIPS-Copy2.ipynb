{
 "cells": [
  {
   "cell_type": "code",
   "execution_count": null,
   "id": "ea5e15a6-d3fb-43e8-9284-a1663e131b71",
   "metadata": {
    "tags": []
   },
   "outputs": [],
   "source": [
    "from fine import *\n",
    "from modelling_datasets import *\n",
    "from config import *\n",
    "from modelling import * "
   ]
  },
  {
   "cell_type": "code",
   "execution_count": null,
   "id": "9afef4a4-e797-4bf7-84cf-99768d514689",
   "metadata": {
    "tags": []
   },
   "outputs": [],
   "source": [
    "import pandas as pd\n",
    "import statsmodels.api as sm\n",
    "import statsmodels.stats as sms\n",
    "import numpy as np"
   ]
  },
  {
   "cell_type": "code",
   "execution_count": null,
   "id": "0186efd4-e258-4aa8-8f0e-54a56bd30f9c",
   "metadata": {
    "tags": []
   },
   "outputs": [],
   "source": [
    "data = pd.read_csv('1. original_data/CPI/T10YIE.csv', index_col = 'DATE')\n",
    "data['T10YIE'] = data['T10YIE'].replace('.', np.nan).astype(float) / 100\n",
    "data = data.diff(1).iloc[1:].dropna()\n",
    "data.index = pd.to_datetime(data.index)"
   ]
  },
  {
   "cell_type": "code",
   "execution_count": null,
   "id": "b149ef51-0f8a-46b1-b0d2-4156136227c8",
   "metadata": {
    "tags": []
   },
   "outputs": [],
   "source": []
  },
  {
   "cell_type": "code",
   "execution_count": null,
   "id": "241f724d-4d59-4860-8a64-f7f0eb320c01",
   "metadata": {
    "tags": []
   },
   "outputs": [],
   "source": [
    "model = sm.OLS(\n",
    "    yi, \n",
    "    sm.add_constant(X)\n",
    ").fit(cov_type='HC3')\n",
    "print(model.summary())"
   ]
  },
  {
   "cell_type": "code",
   "execution_count": null,
   "id": "ce1075aa-e955-496a-853a-f9adf7500063",
   "metadata": {
    "tags": []
   },
   "outputs": [],
   "source": [
    "from statsmodels.stats.outliers_influence import variance_inflation_factor\n",
    "variance_inflation_factor(X)\n",
    "\n",
    "# VIF dataframe \n",
    "vif_data = pd.DataFrame() \n",
    "vif_data[\"feature\"] = X.columns \n",
    "  \n",
    "# calculating VIF for each feature \n",
    "vif_data[\"VIF\"] = [variance_inflation_factor(X.values, i) \n",
    "                          for i in range(len(X.columns))] \n",
    "\n",
    "vif_data"
   ]
  },
  {
   "cell_type": "code",
   "execution_count": null,
   "id": "0a6e0bef-3d57-4553-869b-ec05feba2f8c",
   "metadata": {
    "tags": []
   },
   "outputs": [],
   "source": []
  },
  {
   "cell_type": "code",
   "execution_count": null,
   "id": "350d0d18-1b84-447c-912a-3d909d33ab39",
   "metadata": {
    "tags": []
   },
   "outputs": [],
   "source": [
    "ticker = 'AAPL.OQ'\n",
    "\n",
    "models_types = list(regressors_sets.keys())[:6]\n",
    "print(models_types)\n",
    "\n",
    "\n",
    "fitted_models_list = []\n",
    "for model_type in models_types:\n",
    "    ### wo expected inflation\n",
    "    \n",
    "    X = data['T10YIE']\n",
    "    yi = all_full_pct_return[ticker]\n",
    "\n",
    "    yi = yi.loc[[date for date in X.index if date in yi.index]]\n",
    "    yi = yi.rename(model_type)\n",
    "    X = X.loc[yi.index]\n",
    "\n",
    "    X = pd.concat([X, all_regressors[regressors_sets[model_type]]], axis = 1, join = 'inner')\n",
    "    \n",
    "    X.drop('T10YIE', axis = 1, inplace = True)\n",
    "    \n",
    "    model = sm.OLS(\n",
    "        yi, \n",
    "        sm.add_constant(X)\n",
    "    ).fit(cov_type='HC3')\n",
    "    \n",
    "    fitted_models_list.append(model)\n",
    "    \n",
    "    \n",
    "    ### with expected inflation\n",
    "    X = data['T10YIE']\n",
    "    yi = all_full_pct_return[ticker]\n",
    "\n",
    "    yi = yi.loc[[date for date in X.index if date in yi.index]]\n",
    "    yi = yi.rename(f'{model_type} with Inflation')\n",
    "    X = X.loc[yi.index]\n",
    "\n",
    "    X = pd.concat([X, all_regressors[regressors_sets[model_type]]], axis = 1, join = 'inner')\n",
    "    \n",
    "    model = sm.OLS(\n",
    "        yi, \n",
    "        sm.add_constant(X)\n",
    "    ).fit(cov_type='HC3')\n",
    "    \n",
    "    fitted_models_list.append(model)\n",
    "\n",
    "    \n",
    "### Save as excel file\n",
    "from statsmodels.iolib.summary2 import summary_col\n",
    "\n",
    "summary_table = summary_col(fitted_models_list, stars=True, regressor_order = fitted_models_list[-1].params.index.tolist())\n",
    "print(summary_table)\n",
    "summary_table.tables[0].to_excel(f'Testing/{ticker} TIPS expected inflation in factor models.xlsx')"
   ]
  },
  {
   "cell_type": "code",
   "execution_count": null,
   "id": "f3ce9839-ea05-437c-9b98-ab2fdd74872f",
   "metadata": {
    "tags": []
   },
   "outputs": [],
   "source": [
    "all_full_pct_return"
   ]
  },
  {
   "cell_type": "code",
   "execution_count": 70,
   "id": "9ba1f201-be57-44d3-8267-3b86eecaec8b",
   "metadata": {},
   "outputs": [
    {
     "name": "stderr",
     "output_type": "stream",
     "text": [
      "100%|███████████████████████████████████████████████████████████████████████████████████████████████████████████████████████████████████████████████████████████| 1078/1078 [01:03<00:00, 17.11it/s]\n"
     ]
    }
   ],
   "source": [
    "\n",
    "\n",
    "\n",
    "pvalues_list = []\n",
    "noo_list = []\n",
    "ticker_list = []\n",
    "for ticker in tqdm(all_full_pct_return.columns):\n",
    "\n",
    "    model_type = 'FF5C'\n",
    "    # print(models_types)\n",
    "\n",
    "    ### with expected inflation\n",
    "    X = data['T10YIE']\n",
    "    yi = all_full_pct_return[ticker]\n",
    "\n",
    "    yi = yi.loc[[date for date in X.index if date in yi.index]]\n",
    "    yi = yi.rename(f'{model_type} with Inflation').dropna()\n",
    "    X = X.loc[yi.index]\n",
    "\n",
    "    X = pd.concat([X, all_regressors[regressors_sets[model_type]]], axis = 1, join = 'inner')\n",
    "    \n",
    "    if X.shape[0] > 0:\n",
    "\n",
    "        model = sm.OLS(\n",
    "            yi, \n",
    "            sm.add_constant(X)\n",
    "        ).fit(cov_type='HC1')\n",
    "\n",
    "        pvalues_list.append(model.pvalues['T10YIE'])\n",
    "        \n",
    "        noo_list.append(X.shape[0])\n",
    "        ticker_list.append(ticker)\n",
    "    # print(ticker, yi.shape[0])"
   ]
  },
  {
   "cell_type": "code",
   "execution_count": 76,
   "id": "d6f3b9f3-abed-4dd5-bdc3-7132b7b42056",
   "metadata": {
    "tags": []
   },
   "outputs": [],
   "source": [
    "p_values = pd.DataFrame([pvalues_list, noo_list], columns = ticker_list, index = ['P-values', 'noo']).T"
   ]
  },
  {
   "cell_type": "code",
   "execution_count": 77,
   "id": "655a60e8-26fd-4c93-aaa8-1b42418d55a3",
   "metadata": {
    "tags": []
   },
   "outputs": [],
   "source": [
    "p_values = p_values.sort_values(by = 'P-values', ascending=True)"
   ]
  },
  {
   "cell_type": "code",
   "execution_count": 78,
   "id": "e46a0da1-ab1c-4fc7-8325-492643d95e72",
   "metadata": {
    "tags": []
   },
   "outputs": [],
   "source": [
    "p_values.to_excel('Testing/Pvalues.xlsx')"
   ]
  },
  {
   "cell_type": "code",
   "execution_count": 75,
   "id": "e7c84a07-dfaa-4d14-8e15-e1962c53ad91",
   "metadata": {
    "tags": []
   },
   "outputs": [
    {
     "data": {
      "text/html": [
       "<div>\n",
       "<style scoped>\n",
       "    .dataframe tbody tr th:only-of-type {\n",
       "        vertical-align: middle;\n",
       "    }\n",
       "\n",
       "    .dataframe tbody tr th {\n",
       "        vertical-align: top;\n",
       "    }\n",
       "\n",
       "    .dataframe thead th {\n",
       "        text-align: right;\n",
       "    }\n",
       "</style>\n",
       "<table border=\"1\" class=\"dataframe\">\n",
       "  <thead>\n",
       "    <tr style=\"text-align: right;\">\n",
       "      <th></th>\n",
       "      <th>P-values</th>\n",
       "      <th>noo</th>\n",
       "    </tr>\n",
       "  </thead>\n",
       "  <tbody>\n",
       "    <tr>\n",
       "      <th>NBR.N</th>\n",
       "      <td>9.249340e-18</td>\n",
       "      <td>4546.0</td>\n",
       "    </tr>\n",
       "    <tr>\n",
       "      <th>HP.N</th>\n",
       "      <td>2.303985e-15</td>\n",
       "      <td>4546.0</td>\n",
       "    </tr>\n",
       "    <tr>\n",
       "      <th>DNR.N^G20</th>\n",
       "      <td>3.457315e-15</td>\n",
       "      <td>4546.0</td>\n",
       "    </tr>\n",
       "    <tr>\n",
       "      <th>HAL.N</th>\n",
       "      <td>6.714093e-15</td>\n",
       "      <td>4546.0</td>\n",
       "    </tr>\n",
       "    <tr>\n",
       "      <th>PXD.N</th>\n",
       "      <td>1.011418e-14</td>\n",
       "      <td>4546.0</td>\n",
       "    </tr>\n",
       "    <tr>\n",
       "      <th>...</th>\n",
       "      <td>...</td>\n",
       "      <td>...</td>\n",
       "    </tr>\n",
       "    <tr>\n",
       "      <th>XL.N^I18</th>\n",
       "      <td>9.780409e-02</td>\n",
       "      <td>4546.0</td>\n",
       "    </tr>\n",
       "    <tr>\n",
       "      <th>SLR.N^J07</th>\n",
       "      <td>9.871667e-02</td>\n",
       "      <td>4546.0</td>\n",
       "    </tr>\n",
       "    <tr>\n",
       "      <th>HCA.N^K06</th>\n",
       "      <td>9.932764e-02</td>\n",
       "      <td>4546.0</td>\n",
       "    </tr>\n",
       "    <tr>\n",
       "      <th>MERQE.OQ^A06</th>\n",
       "      <td>9.939798e-02</td>\n",
       "      <td>4546.0</td>\n",
       "    </tr>\n",
       "    <tr>\n",
       "      <th>AL.N^K07</th>\n",
       "      <td>9.941045e-02</td>\n",
       "      <td>4546.0</td>\n",
       "    </tr>\n",
       "  </tbody>\n",
       "</table>\n",
       "<p>421 rows × 2 columns</p>\n",
       "</div>"
      ],
      "text/plain": [
       "                  P-values     noo\n",
       "NBR.N         9.249340e-18  4546.0\n",
       "HP.N          2.303985e-15  4546.0\n",
       "DNR.N^G20     3.457315e-15  4546.0\n",
       "HAL.N         6.714093e-15  4546.0\n",
       "PXD.N         1.011418e-14  4546.0\n",
       "...                    ...     ...\n",
       "XL.N^I18      9.780409e-02  4546.0\n",
       "SLR.N^J07     9.871667e-02  4546.0\n",
       "HCA.N^K06     9.932764e-02  4546.0\n",
       "MERQE.OQ^A06  9.939798e-02  4546.0\n",
       "AL.N^K07      9.941045e-02  4546.0\n",
       "\n",
       "[421 rows x 2 columns]"
      ]
     },
     "execution_count": 75,
     "metadata": {},
     "output_type": "execute_result"
    }
   ],
   "source": [
    "p_values[\n",
    "    p_values['P-values'] < 0.1\n",
    "]"
   ]
  }
 ],
 "metadata": {
  "kernelspec": {
   "display_name": "Python 3 (ipykernel)",
   "language": "python",
   "name": "python3"
  },
  "language_info": {
   "codemirror_mode": {
    "name": "ipython",
    "version": 3
   },
   "file_extension": ".py",
   "mimetype": "text/x-python",
   "name": "python",
   "nbconvert_exporter": "python",
   "pygments_lexer": "ipython3",
   "version": "3.11.4"
  }
 },
 "nbformat": 4,
 "nbformat_minor": 5
}
